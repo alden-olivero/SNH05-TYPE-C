{
 "cells": [
  {
   "cell_type": "code",
   "execution_count": 1,
   "id": "dcb0ee59",
   "metadata": {},
   "outputs": [
    {
     "name": "stdout",
     "output_type": "stream",
     "text": [
      "Defaulting to user installation because normal site-packages is not writeable\n",
      "Requirement already satisfied: roboflow in c:\\users\\lenovo\\appdata\\roaming\\python\\python39\\site-packages (1.1.9)\n",
      "Requirement already satisfied: python-magic in c:\\users\\lenovo\\appdata\\roaming\\python\\python39\\site-packages (from roboflow) (0.4.27)\n",
      "Requirement already satisfied: numpy>=1.18.5 in c:\\users\\lenovo\\appdata\\roaming\\python\\python39\\site-packages (from roboflow) (1.26.0)\n",
      "Requirement already satisfied: tqdm>=4.41.0 in c:\\programdata\\anaconda3\\lib\\site-packages (from roboflow) (4.64.1)\n",
      "Requirement already satisfied: requests-toolbelt in c:\\users\\lenovo\\appdata\\roaming\\python\\python39\\site-packages (from roboflow) (1.0.0)\n",
      "Requirement already satisfied: urllib3>=1.26.6 in c:\\programdata\\anaconda3\\lib\\site-packages (from roboflow) (1.26.11)\n",
      "Requirement already satisfied: requests in c:\\programdata\\anaconda3\\lib\\site-packages (from roboflow) (2.28.1)\n",
      "Requirement already satisfied: python-dateutil in c:\\programdata\\anaconda3\\lib\\site-packages (from roboflow) (2.8.2)\n",
      "Requirement already satisfied: pyparsing==2.4.7 in c:\\users\\lenovo\\appdata\\roaming\\python\\python39\\site-packages (from roboflow) (2.4.7)\n",
      "Requirement already satisfied: cycler==0.10.0 in c:\\users\\lenovo\\appdata\\roaming\\python\\python39\\site-packages (from roboflow) (0.10.0)\n",
      "Requirement already satisfied: supervision in c:\\users\\lenovo\\appdata\\roaming\\python\\python39\\site-packages (from roboflow) (0.16.0)\n",
      "Requirement already satisfied: certifi==2023.7.22 in c:\\users\\lenovo\\appdata\\roaming\\python\\python39\\site-packages (from roboflow) (2023.7.22)\n",
      "Requirement already satisfied: idna==2.10 in c:\\users\\lenovo\\appdata\\roaming\\python\\python39\\site-packages (from roboflow) (2.10)\n",
      "Requirement already satisfied: matplotlib in c:\\users\\lenovo\\appdata\\roaming\\python\\python39\\site-packages (from roboflow) (3.8.2)\n",
      "Requirement already satisfied: chardet==4.0.0 in c:\\programdata\\anaconda3\\lib\\site-packages (from roboflow) (4.0.0)\n",
      "Requirement already satisfied: python-dotenv in c:\\users\\lenovo\\appdata\\roaming\\python\\python39\\site-packages (from roboflow) (1.0.0)\n",
      "Requirement already satisfied: opencv-python-headless==4.8.0.74 in c:\\users\\lenovo\\appdata\\roaming\\python\\python39\\site-packages (from roboflow) (4.8.0.74)\n",
      "Requirement already satisfied: kiwisolver>=1.3.1 in c:\\programdata\\anaconda3\\lib\\site-packages (from roboflow) (1.4.2)\n",
      "Requirement already satisfied: six in c:\\programdata\\anaconda3\\lib\\site-packages (from roboflow) (1.16.0)\n",
      "Requirement already satisfied: Pillow>=7.1.2 in c:\\users\\lenovo\\appdata\\roaming\\python\\python39\\site-packages (from roboflow) (10.1.0)\n",
      "Requirement already satisfied: PyYAML>=5.3.1 in c:\\programdata\\anaconda3\\lib\\site-packages (from roboflow) (6.0)\n",
      "Requirement already satisfied: colorama in c:\\programdata\\anaconda3\\lib\\site-packages (from tqdm>=4.41.0->roboflow) (0.4.5)\n",
      "Requirement already satisfied: contourpy>=1.0.1 in c:\\users\\lenovo\\appdata\\roaming\\python\\python39\\site-packages (from matplotlib->roboflow) (1.2.0)\n",
      "Requirement already satisfied: importlib-resources>=3.2.0 in c:\\users\\lenovo\\appdata\\roaming\\python\\python39\\site-packages (from matplotlib->roboflow) (6.1.1)\n",
      "Requirement already satisfied: fonttools>=4.22.0 in c:\\programdata\\anaconda3\\lib\\site-packages (from matplotlib->roboflow) (4.25.0)\n",
      "Requirement already satisfied: packaging>=20.0 in c:\\programdata\\anaconda3\\lib\\site-packages (from matplotlib->roboflow) (21.3)\n",
      "Requirement already satisfied: charset-normalizer<3,>=2 in c:\\programdata\\anaconda3\\lib\\site-packages (from requests->roboflow) (2.0.4)\n",
      "Requirement already satisfied: scipy<2.0.0,>=1.9.0 in c:\\users\\lenovo\\appdata\\roaming\\python\\python39\\site-packages (from supervision->roboflow) (1.10.1)\n",
      "Requirement already satisfied: zipp>=3.1.0 in c:\\programdata\\anaconda3\\lib\\site-packages (from importlib-resources>=3.2.0->matplotlib->roboflow) (3.8.0)\n"
     ]
    },
    {
     "name": "stderr",
     "output_type": "stream",
     "text": [
      "WARNING: Ignoring invalid distribution -andas (c:\\users\\lenovo\\appdata\\roaming\\python\\python39\\site-packages)\n",
      "WARNING: Ignoring invalid distribution -andas (c:\\users\\lenovo\\appdata\\roaming\\python\\python39\\site-packages)\n",
      "WARNING: Ignoring invalid distribution -andas (c:\\users\\lenovo\\appdata\\roaming\\python\\python39\\site-packages)\n",
      "WARNING: Ignoring invalid distribution -andas (c:\\users\\lenovo\\appdata\\roaming\\python\\python39\\site-packages)\n",
      "WARNING: Ignoring invalid distribution -andas (c:\\users\\lenovo\\appdata\\roaming\\python\\python39\\site-packages)\n",
      "WARNING: Ignoring invalid distribution -andas (c:\\users\\lenovo\\appdata\\roaming\\python\\python39\\site-packages)\n"
     ]
    }
   ],
   "source": [
    "!pip install roboflow"
   ]
  },
  {
   "cell_type": "code",
   "execution_count": 29,
   "id": "bd496403",
   "metadata": {},
   "outputs": [],
   "source": [
    "import os\n",
    "import numpy as np\n",
    "import tensorflow as tf\n",
    "from tensorflow.keras import layers, models\n",
    "from tensorflow.keras.preprocessing.image import ImageDataGenerator"
   ]
  },
  {
   "cell_type": "code",
   "execution_count": 39,
   "id": "53008038",
   "metadata": {},
   "outputs": [],
   "source": [
    "# Define parameters\n",
    "batch_size = 16\n",
    "image_size = (224, 224)\n",
    "# Define the dataset path\n",
    "train_data_dir = 'C:/Users/LENOVO/Desktop/snh/dataset/train/'\n",
    "valid_data_dir = 'C:/Users/LENOVO/Desktop/snh/dataset/test/'"
   ]
  },
  {
   "cell_type": "code",
   "execution_count": 40,
   "id": "7339ff0e",
   "metadata": {},
   "outputs": [],
   "source": [
    "# Create ImageDataGenerator for data augmentation and normalization\n",
    "train_datagen = ImageDataGenerator(\n",
    "    rescale=1./255,\n",
    "    shear_range=0.2,\n",
    "    zoom_range=0.2,\n",
    "    horizontal_flip=True\n",
    ")"
   ]
  },
  {
   "cell_type": "code",
   "execution_count": 41,
   "id": "27b5e1e8",
   "metadata": {},
   "outputs": [],
   "source": [
    "valid_datagen = ImageDataGenerator(rescale=1./255)"
   ]
  },
  {
   "cell_type": "code",
   "execution_count": 42,
   "id": "57bedd33",
   "metadata": {},
   "outputs": [
    {
     "name": "stdout",
     "output_type": "stream",
     "text": [
      "Found 2090 images belonging to 2 classes.\n"
     ]
    }
   ],
   "source": [
    "# Create data generators\n",
    "train_generator = train_datagen.flow_from_directory(\n",
    "    train_data_dir,\n",
    "    target_size=image_size,\n",
    "    batch_size=batch_size,\n",
    "    class_mode='categorical'\n",
    ")\n",
    "\n"
   ]
  },
  {
   "cell_type": "code",
   "execution_count": 43,
   "id": "40859bff",
   "metadata": {},
   "outputs": [
    {
     "name": "stdout",
     "output_type": "stream",
     "text": [
      "Found 16 images belonging to 2 classes.\n"
     ]
    }
   ],
   "source": [
    "valid_generator = valid_datagen.flow_from_directory(\n",
    "    valid_data_dir,\n",
    "    target_size=image_size,\n",
    "    batch_size=batch_size,\n",
    "    class_mode='categorical',\n",
    "\n",
    ")"
   ]
  },
  {
   "cell_type": "code",
   "execution_count": 44,
   "id": "e41a1fef",
   "metadata": {},
   "outputs": [
    {
     "name": "stdout",
     "output_type": "stream",
     "text": [
      "Number of classes: 2\n"
     ]
    }
   ],
   "source": [
    "num_classes = len(train_generator.class_indices)\n",
    "print(f\"Number of classes: {num_classes}\")"
   ]
  },
  {
   "cell_type": "code",
   "execution_count": 45,
   "id": "1d3025ac",
   "metadata": {},
   "outputs": [],
   "source": [
    "# Build a simple CNN model\n",
    "model = models.Sequential()\n",
    "model.add(layers.Conv2D(32, (3, 3), activation='relu', input_shape=(224, 224, 3)))\n",
    "model.add(layers.MaxPooling2D((2, 2)))\n",
    "model.add(layers.Conv2D(64, (3, 3), activation='relu'))\n",
    "model.add(layers.MaxPooling2D((2, 2)))\n",
    "model.add(layers.Conv2D(128, (3, 3), activation='relu'))\n",
    "model.add(layers.MaxPooling2D((2, 2)))\n",
    "model.add(layers.Flatten())\n",
    "model.add(layers.Dense(128, activation='relu'))\n",
    "model.add(layers.Dense(num_classes, activation='softmax'))"
   ]
  },
  {
   "cell_type": "code",
   "execution_count": 46,
   "id": "8503dcf0",
   "metadata": {},
   "outputs": [],
   "source": [
    "# Compile the model\n",
    "model.compile(optimizer='adam',\n",
    "              loss='categorical_crossentropy',\n",
    "              metrics=['accuracy'])"
   ]
  },
  {
   "cell_type": "code",
   "execution_count": 48,
   "id": "6962fdf2",
   "metadata": {},
   "outputs": [
    {
     "name": "stdout",
     "output_type": "stream",
     "text": [
      "Epoch 1/10\n",
      "130/130 [==============================] - 92s 706ms/step - loss: 0.1824 - accuracy: 0.9561 - val_loss: 0.7209 - val_accuracy: 0.5625\n",
      "Epoch 2/10\n",
      "130/130 [==============================] - 84s 645ms/step - loss: 0.1403 - accuracy: 0.9581 - val_loss: 0.7016 - val_accuracy: 0.5625\n",
      "Epoch 3/10\n",
      "130/130 [==============================] - 78s 598ms/step - loss: 0.0935 - accuracy: 0.9595 - val_loss: 0.8445 - val_accuracy: 0.5625\n",
      "Epoch 4/10\n",
      "130/130 [==============================] - 84s 645ms/step - loss: 0.0754 - accuracy: 0.9716 - val_loss: 0.6279 - val_accuracy: 0.7500\n",
      "Epoch 5/10\n",
      "130/130 [==============================] - 83s 637ms/step - loss: 0.0594 - accuracy: 0.9764 - val_loss: 0.7687 - val_accuracy: 0.5625\n",
      "Epoch 6/10\n",
      "130/130 [==============================] - 82s 631ms/step - loss: 0.0516 - accuracy: 0.9797 - val_loss: 0.7829 - val_accuracy: 0.6875\n",
      "Epoch 7/10\n",
      "130/130 [==============================] - 74s 570ms/step - loss: 0.0520 - accuracy: 0.9783 - val_loss: 0.4472 - val_accuracy: 0.7500\n",
      "Epoch 8/10\n",
      "130/130 [==============================] - 85s 653ms/step - loss: 0.0486 - accuracy: 0.9822 - val_loss: 1.1380 - val_accuracy: 0.6250\n",
      "Epoch 9/10\n",
      "130/130 [==============================] - 84s 648ms/step - loss: 0.0372 - accuracy: 0.9851 - val_loss: 0.6818 - val_accuracy: 0.6875\n",
      "Epoch 10/10\n",
      "130/130 [==============================] - 78s 598ms/step - loss: 0.0428 - accuracy: 0.9826 - val_loss: 0.2876 - val_accuracy: 0.7500\n"
     ]
    },
    {
     "data": {
      "text/plain": [
       "<keras.callbacks.History at 0x1a5291e5550>"
      ]
     },
     "execution_count": 48,
     "metadata": {},
     "output_type": "execute_result"
    }
   ],
   "source": [
    "# Train the model\n",
    "model.fit(\n",
    "    train_generator,\n",
    "    steps_per_epoch=train_generator.samples // batch_size,\n",
    "    validation_data=valid_generator,\n",
    "    validation_steps=valid_generator.samples // batch_size,\n",
    "    epochs=10  # you can adjust the number of epochs\n",
    ")"
   ]
  },
  {
   "cell_type": "code",
   "execution_count": 49,
   "id": "4006bf36",
   "metadata": {},
   "outputs": [],
   "source": [
    "# Save the model\n",
    "model.save('object_classifier.h5')"
   ]
  },
  {
   "cell_type": "code",
   "execution_count": 51,
   "id": "b73f7761",
   "metadata": {},
   "outputs": [],
   "source": [
    "import tensorflow as tf\n",
    "import numpy as np\n",
    "\n",
    "# Load the trained model\n",
    "model = tf.keras.models.load_model('object_classifier.h5')\n"
   ]
  },
  {
   "cell_type": "code",
   "execution_count": 91,
   "id": "fc84f707",
   "metadata": {},
   "outputs": [],
   "source": [
    "\n",
    "# Path to your test image\n",
    "test_image_path = 'C:/Users/LENOVO/Downloads/image1.jpeg'\n"
   ]
  },
  {
   "cell_type": "code",
   "execution_count": 92,
   "id": "03c15cb9",
   "metadata": {},
   "outputs": [],
   "source": [
    "\n",
    "# Load and preprocess the test image\n",
    "img = tf.keras.preprocessing.image.load_img(test_image_path, target_size=(224, 224))\n",
    "img_array = tf.keras.preprocessing.image.img_to_array(img)\n",
    "img_array = np.expand_dims(img_array, axis=0)\n",
    "img_array /= 255.0  # Normalize the image\n"
   ]
  },
  {
   "cell_type": "code",
   "execution_count": 93,
   "id": "b582d0e6",
   "metadata": {},
   "outputs": [
    {
     "name": "stdout",
     "output_type": "stream",
     "text": [
      "1/1 [==============================] - 0s 43ms/step\n"
     ]
    }
   ],
   "source": [
    "\n",
    "# Make predictions\n",
    "predictions = model.predict(img_array)\n"
   ]
  },
  {
   "cell_type": "code",
   "execution_count": 94,
   "id": "e08681f3",
   "metadata": {},
   "outputs": [],
   "source": [
    "\n",
    "# Map predicted class index to the actual class name\n",
    "class_names = train_generator.class_indices\n",
    "predicted_class = np.argmax(predictions)\n",
    "predicted_class_name = [k for k, v in class_names.items() if v == predicted_class][0]\n"
   ]
  },
  {
   "cell_type": "code",
   "execution_count": 95,
   "id": "41d607dd",
   "metadata": {},
   "outputs": [
    {
     "name": "stdout",
     "output_type": "stream",
     "text": [
      "Predicted class index: 0\n",
      "Predicted class name: Smart Phone\n"
     ]
    }
   ],
   "source": [
    "\n",
    "print(f\"Predicted class index: {predicted_class}\")\n",
    "print(f\"Predicted class name: {predicted_class_name}\")\n"
   ]
  },
  {
   "cell_type": "code",
   "execution_count": 96,
   "id": "4bc954a9",
   "metadata": {},
   "outputs": [
    {
     "name": "stdout",
     "output_type": "stream",
     "text": [
      "Python 3.9.13\n"
     ]
    }
   ],
   "source": [
    "!python --version"
   ]
  },
  {
   "cell_type": "code",
   "execution_count": null,
   "id": "3020b753",
   "metadata": {},
   "outputs": [],
   "source": []
  }
 ],
 "metadata": {
  "kernelspec": {
   "display_name": "Python 3 (ipykernel)",
   "language": "python",
   "name": "python3"
  },
  "language_info": {
   "codemirror_mode": {
    "name": "ipython",
    "version": 3
   },
   "file_extension": ".py",
   "mimetype": "text/x-python",
   "name": "python",
   "nbconvert_exporter": "python",
   "pygments_lexer": "ipython3",
   "version": "3.9.13"
  }
 },
 "nbformat": 4,
 "nbformat_minor": 5
}
