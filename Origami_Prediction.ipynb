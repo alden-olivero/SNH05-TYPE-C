{
 "cells": [
  {
   "cell_type": "code",
   "execution_count": 1,
   "metadata": {
    "colab": {
     "base_uri": "https://localhost:8080/"
    },
    "id": "HfjF_aIEVLyp",
    "outputId": "d3f8d410-a2ef-4ed1-a746-2bd5a04abf0a"
   },
   "outputs": [
    {
     "name": "stderr",
     "output_type": "stream",
     "text": [
      "WARNING: Ignoring invalid distribution -andas (c:\\users\\lenovo\\appdata\\roaming\\python\\python39\\site-packages)\n",
      "WARNING: Ignoring invalid distribution -andas (c:\\users\\lenovo\\appdata\\roaming\\python\\python39\\site-packages)\n",
      "WARNING: Ignoring invalid distribution -andas (c:\\users\\lenovo\\appdata\\roaming\\python\\python39\\site-packages)\n",
      "  WARNING: The script dotenv.exe is installed in 'C:\\Users\\LENOVO\\AppData\\Roaming\\Python\\Python39\\Scripts' which is not on PATH.\n",
      "  Consider adding this directory to PATH or, if you prefer to suppress this warning, use --no-warn-script-location.\n",
      "WARNING: Ignoring invalid distribution -andas (c:\\users\\lenovo\\appdata\\roaming\\python\\python39\\site-packages)\n",
      "WARNING: Ignoring invalid distribution -andas (c:\\users\\lenovo\\appdata\\roaming\\python\\python39\\site-packages)\n",
      "WARNING: Ignoring invalid distribution -andas (c:\\users\\lenovo\\appdata\\roaming\\python\\python39\\site-packages)\n",
      "WARNING: Ignoring invalid distribution -andas (c:\\users\\lenovo\\appdata\\roaming\\python\\python39\\site-packages)\n",
      "WARNING: Ignoring invalid distribution -andas (c:\\users\\lenovo\\appdata\\roaming\\python\\python39\\site-packages)\n",
      "WARNING: Ignoring invalid distribution -andas (c:\\users\\lenovo\\appdata\\roaming\\python\\python39\\site-packages)\n",
      "WARNING: Ignoring invalid distribution -andas (c:\\users\\lenovo\\appdata\\roaming\\python\\python39\\site-packages)\n",
      "WARNING: Ignoring invalid distribution -andas (c:\\users\\lenovo\\appdata\\roaming\\python\\python39\\site-packages)\n",
      "WARNING: Ignoring invalid distribution -andas (c:\\users\\lenovo\\appdata\\roaming\\python\\python39\\site-packages)\n",
      "WARNING: Ignoring invalid distribution -andas (c:\\users\\lenovo\\appdata\\roaming\\python\\python39\\site-packages)\n",
      "WARNING: Ignoring invalid distribution -andas (c:\\users\\lenovo\\appdata\\roaming\\python\\python39\\site-packages)\n",
      "WARNING: Ignoring invalid distribution -andas (c:\\users\\lenovo\\appdata\\roaming\\python\\python39\\site-packages)\n",
      "WARNING: Ignoring invalid distribution -andas (c:\\users\\lenovo\\appdata\\roaming\\python\\python39\\site-packages)\n",
      "WARNING: Ignoring invalid distribution -andas (c:\\users\\lenovo\\appdata\\roaming\\python\\python39\\site-packages)\n",
      "ERROR: pip's dependency resolver does not currently take into account all the packages that are installed. This behaviour is the source of the following dependency conflicts.\n",
      "conda-repo-cli 1.0.20 requires clyent==1.2.1, but you have clyent 1.2.2 which is incompatible.\n",
      "conda-repo-cli 1.0.20 requires nbformat==5.4.0, but you have nbformat 5.5.0 which is incompatible.\n",
      "WARNING: Ignoring invalid distribution -andas (c:\\users\\lenovo\\appdata\\roaming\\python\\python39\\site-packages)\n",
      "WARNING: Ignoring invalid distribution -andas (c:\\users\\lenovo\\appdata\\roaming\\python\\python39\\site-packages)\n",
      "WARNING: Ignoring invalid distribution -andas (c:\\users\\lenovo\\appdata\\roaming\\python\\python39\\site-packages)\n"
     ]
    },
    {
     "name": "stdout",
     "output_type": "stream",
     "text": [
      "Defaulting to user installation because normal site-packages is not writeable\n",
      "Collecting roboflow\n",
      "  Downloading roboflow-1.1.9-py3-none-any.whl (63 kB)\n",
      "     ---------------------------------------- 63.3/63.3 kB 3.5 MB/s eta 0:00:00\n",
      "Collecting idna==2.10\n",
      "  Using cached idna-2.10-py2.py3-none-any.whl (58 kB)\n",
      "Requirement already satisfied: Pillow>=7.1.2 in c:\\programdata\\anaconda3\\lib\\site-packages (from roboflow) (9.2.0)\n",
      "Requirement already satisfied: kiwisolver>=1.3.1 in c:\\programdata\\anaconda3\\lib\\site-packages (from roboflow) (1.4.2)\n",
      "Requirement already satisfied: urllib3>=1.26.6 in c:\\programdata\\anaconda3\\lib\\site-packages (from roboflow) (1.26.11)\n",
      "Collecting opencv-python-headless==4.8.0.74\n",
      "  Downloading opencv_python_headless-4.8.0.74-cp37-abi3-win_amd64.whl (38.0 MB)\n",
      "     ---------------------------------------- 38.0/38.0 MB 9.6 MB/s eta 0:00:00\n",
      "Collecting pyparsing==2.4.7\n",
      "  Downloading pyparsing-2.4.7-py2.py3-none-any.whl (67 kB)\n",
      "     ---------------------------------------- 67.8/67.8 kB ? eta 0:00:00\n",
      "Requirement already satisfied: PyYAML>=5.3.1 in c:\\programdata\\anaconda3\\lib\\site-packages (from roboflow) (6.0)\n",
      "Requirement already satisfied: numpy>=1.18.5 in c:\\users\\lenovo\\appdata\\roaming\\python\\python39\\site-packages (from roboflow) (1.26.0)\n",
      "Requirement already satisfied: matplotlib in c:\\programdata\\anaconda3\\lib\\site-packages (from roboflow) (3.5.2)\n",
      "Requirement already satisfied: chardet==4.0.0 in c:\\programdata\\anaconda3\\lib\\site-packages (from roboflow) (4.0.0)\n",
      "Requirement already satisfied: requests in c:\\programdata\\anaconda3\\lib\\site-packages (from roboflow) (2.28.1)\n",
      "Requirement already satisfied: python-dateutil in c:\\programdata\\anaconda3\\lib\\site-packages (from roboflow) (2.8.2)\n",
      "Collecting python-magic\n",
      "  Downloading python_magic-0.4.27-py2.py3-none-any.whl (13 kB)\n",
      "Collecting python-dotenv\n",
      "  Downloading python_dotenv-1.0.0-py3-none-any.whl (19 kB)\n",
      "Collecting cycler==0.10.0\n",
      "  Downloading cycler-0.10.0-py2.py3-none-any.whl (6.5 kB)\n",
      "Collecting supervision\n",
      "  Downloading supervision-0.16.0-py3-none-any.whl (72 kB)\n",
      "     ---------------------------------------- 72.2/72.2 kB 4.1 MB/s eta 0:00:00\n",
      "Collecting certifi==2023.7.22\n",
      "  Using cached certifi-2023.7.22-py3-none-any.whl (158 kB)\n",
      "Requirement already satisfied: tqdm>=4.41.0 in c:\\programdata\\anaconda3\\lib\\site-packages (from roboflow) (4.64.1)\n",
      "Requirement already satisfied: six in c:\\programdata\\anaconda3\\lib\\site-packages (from roboflow) (1.16.0)\n",
      "Collecting requests-toolbelt\n",
      "  Downloading requests_toolbelt-1.0.0-py2.py3-none-any.whl (54 kB)\n",
      "     ---------------------------------------- 54.5/54.5 kB ? eta 0:00:00\n",
      "Requirement already satisfied: colorama in c:\\programdata\\anaconda3\\lib\\site-packages (from tqdm>=4.41.0->roboflow) (0.4.5)\n",
      "Requirement already satisfied: fonttools>=4.22.0 in c:\\programdata\\anaconda3\\lib\\site-packages (from matplotlib->roboflow) (4.25.0)\n",
      "Requirement already satisfied: packaging>=20.0 in c:\\programdata\\anaconda3\\lib\\site-packages (from matplotlib->roboflow) (21.3)\n",
      "Requirement already satisfied: charset-normalizer<3,>=2 in c:\\programdata\\anaconda3\\lib\\site-packages (from requests->roboflow) (2.0.4)\n",
      "Requirement already satisfied: scipy<2.0.0,>=1.9.0 in c:\\users\\lenovo\\appdata\\roaming\\python\\python39\\site-packages (from supervision->roboflow) (1.10.1)\n",
      "Collecting matplotlib\n",
      "  Downloading matplotlib-3.8.2-cp39-cp39-win_amd64.whl (7.6 MB)\n",
      "     ---------------------------------------- 7.6/7.6 MB 11.4 MB/s eta 0:00:00\n",
      "Collecting Pillow>=7.1.2\n",
      "  Downloading Pillow-10.1.0-cp39-cp39-win_amd64.whl (2.6 MB)\n",
      "     ---------------------------------------- 2.6/2.6 MB 11.1 MB/s eta 0:00:00\n",
      "Collecting importlib-resources>=3.2.0\n",
      "  Downloading importlib_resources-6.1.1-py3-none-any.whl (33 kB)\n",
      "Collecting contourpy>=1.0.1\n",
      "  Downloading contourpy-1.2.0-cp39-cp39-win_amd64.whl (181 kB)\n",
      "     ------------------------------------- 181.9/181.9 kB 10.7 MB/s eta 0:00:00\n",
      "Requirement already satisfied: zipp>=3.1.0 in c:\\programdata\\anaconda3\\lib\\site-packages (from importlib-resources>=3.2.0->matplotlib->roboflow) (3.8.0)\n",
      "Installing collected packages: python-magic, python-dotenv, pyparsing, Pillow, opencv-python-headless, importlib-resources, idna, cycler, contourpy, certifi, requests-toolbelt, matplotlib, supervision, roboflow\n",
      "Successfully installed Pillow-10.1.0 certifi-2023.7.22 contourpy-1.2.0 cycler-0.10.0 idna-2.10 importlib-resources-6.1.1 matplotlib-3.8.2 opencv-python-headless-4.8.0.74 pyparsing-2.4.7 python-dotenv-1.0.0 python-magic-0.4.27 requests-toolbelt-1.0.0 roboflow-1.1.9 supervision-0.16.0\n"
     ]
    },
    {
     "name": "stderr",
     "output_type": "stream",
     "text": [
      "C:\\Users\\LENOVO\\AppData\\Roaming\\Python\\Python39\\site-packages\\matplotlib\\projections\\__init__.py:63: UserWarning: Unable to import Axes3D. This may be due to multiple versions of Matplotlib being installed (e.g. as a system package and as a pip package). As a result, the 3D projection is not available.\n",
      "  warnings.warn(\"Unable to import Axes3D. This may be due to multiple versions of \"\n"
     ]
    },
    {
     "name": "stdout",
     "output_type": "stream",
     "text": [
      "loading Roboflow workspace...\n",
      "loading Roboflow project...\n",
      "[WARNING] we noticed you are downloading a `yolov8` datasets but you don't have `ultralytics` installed. Roboflow `.deploy` supports only models trained with `ultralytics==8.0.196`, to intall it `pip install ultralytics==8.0.196`.\n"
     ]
    },
    {
     "name": "stderr",
     "output_type": "stream",
     "text": [
      "Downloading Dataset Version Zip in fyp_20230907-1 to yolov8:: 100%|██████████████| 3802/3802 [00:01<00:00, 2395.18it/s]"
     ]
    },
    {
     "name": "stdout",
     "output_type": "stream",
     "text": [
      "\n"
     ]
    },
    {
     "name": "stderr",
     "output_type": "stream",
     "text": [
      "\n",
      "Extracting Dataset Version Zip to fyp_20230907-1 in yolov8:: 100%|██████████████████| 289/289 [00:00<00:00, 683.47it/s]\n"
     ]
    }
   ],
   "source": [
    "!pip install roboflow\n",
    "\n",
    "from roboflow import Roboflow\n",
    "rf = Roboflow(api_key=\"mk0KG60ShShIw9dOeJZW\")\n",
    "project = rf.workspace(\"kyushu-university-dwxf1\").project(\"fyp_20230907\")\n",
    "dataset = project.version(1).download(\"yolov8\")\n"
   ]
  },
  {
   "cell_type": "code",
   "execution_count": 2,
   "metadata": {
    "id": "rgJLUsPEXA-7"
   },
   "outputs": [],
   "source": [
    "import os\n",
    "import numpy as np\n",
    "import tensorflow as tf\n",
    "from tensorflow.keras import layers, models\n",
    "from tensorflow.keras.preprocessing.image import ImageDataGenerator"
   ]
  },
  {
   "cell_type": "code",
   "execution_count": 11,
   "metadata": {
    "id": "wwh2A4nwXDTd"
   },
   "outputs": [],
   "source": [
    "# Define parameters\n",
    "batch_size = 16\n",
    "image_size = (224, 224)\n",
    "# Define the dataset path\n",
    "train_data_dir = 'C:/Users/LENOVO/Desktop/Untitled Folder/fyp_20230907-1/train/'\n",
    "valid_data_dir = 'C:/Users/LENOVO/Desktop/Untitled Folder/fyp_20230907-1/valid/'"
   ]
  },
  {
   "cell_type": "code",
   "execution_count": 12,
   "metadata": {
    "id": "FLBfvGekJGVp"
   },
   "outputs": [],
   "source": [
    "# Create ImageDataGenerator for data augmentation and normalization\n",
    "train_datagen = ImageDataGenerator(\n",
    "    rescale=1./255,\n",
    "    shear_range=0.2,\n",
    "    zoom_range=0.2,\n",
    "    horizontal_flip=True\n",
    ")"
   ]
  },
  {
   "cell_type": "code",
   "execution_count": 13,
   "metadata": {
    "id": "zS8Zl31ZJGYV"
   },
   "outputs": [],
   "source": [
    "valid_datagen = ImageDataGenerator(rescale=1./255)"
   ]
  },
  {
   "cell_type": "code",
   "execution_count": 14,
   "metadata": {
    "colab": {
     "base_uri": "https://localhost:8080/"
    },
    "id": "6hgvGCK2XFT8",
    "outputId": "f2bbe465-537d-44d2-b530-5d4f6a6e0271"
   },
   "outputs": [
    {
     "name": "stdout",
     "output_type": "stream",
     "text": [
      "Found 98 images belonging to 13 classes.\n"
     ]
    }
   ],
   "source": [
    "# Create data generators\n",
    "train_generator = train_datagen.flow_from_directory(\n",
    "    train_data_dir,\n",
    "    target_size=image_size,\n",
    "    batch_size=batch_size,\n",
    "    class_mode='categorical'\n",
    ")\n",
    "\n"
   ]
  },
  {
   "cell_type": "code",
   "execution_count": null,
   "metadata": {
    "id": "0LyA4xvWJFt3"
   },
   "outputs": [],
   "source": []
  },
  {
   "cell_type": "code",
   "execution_count": null,
   "metadata": {
    "id": "CSIgf3PsXHk1"
   },
   "outputs": [],
   "source": []
  },
  {
   "cell_type": "code",
   "execution_count": 15,
   "metadata": {
    "colab": {
     "base_uri": "https://localhost:8080/"
    },
    "id": "V8X0t5SaQrsO",
    "outputId": "f7350e90-bb4e-42d5-b4b7-962f18f0ad8d"
   },
   "outputs": [
    {
     "name": "stdout",
     "output_type": "stream",
     "text": [
      "Found 42 images belonging to 13 classes.\n"
     ]
    }
   ],
   "source": [
    "valid_generator = valid_datagen.flow_from_directory(\n",
    "    valid_data_dir,\n",
    "    target_size=image_size,\n",
    "    batch_size=batch_size,\n",
    "    class_mode='categorical',\n",
    "\n",
    ")"
   ]
  },
  {
   "cell_type": "code",
   "execution_count": 16,
   "metadata": {
    "colab": {
     "base_uri": "https://localhost:8080/"
    },
    "id": "DLS24P3TVhVC",
    "outputId": "95a5e0dc-54df-41a8-e792-c83e17cb0253"
   },
   "outputs": [
    {
     "name": "stdout",
     "output_type": "stream",
     "text": [
      "Number of classes: 13\n"
     ]
    }
   ],
   "source": [
    "num_classes = len(train_generator.class_indices)\n",
    "print(f\"Number of classes: {num_classes}\")"
   ]
  },
  {
   "cell_type": "code",
   "execution_count": 17,
   "metadata": {
    "id": "x-SHwU8hQru6"
   },
   "outputs": [],
   "source": [
    "# Build a simple CNN model\n",
    "model = models.Sequential()\n",
    "model.add(layers.Conv2D(32, (3, 3), activation='relu', input_shape=(224, 224, 3)))\n",
    "model.add(layers.MaxPooling2D((2, 2)))\n",
    "model.add(layers.Conv2D(64, (3, 3), activation='relu'))\n",
    "model.add(layers.MaxPooling2D((2, 2)))\n",
    "model.add(layers.Conv2D(128, (3, 3), activation='relu'))\n",
    "model.add(layers.MaxPooling2D((2, 2)))\n",
    "model.add(layers.Flatten())\n",
    "model.add(layers.Dense(128, activation='relu'))\n",
    "model.add(layers.Dense(num_classes, activation='softmax'))"
   ]
  },
  {
   "cell_type": "code",
   "execution_count": 18,
   "metadata": {
    "id": "mb5m0mjhQrx9"
   },
   "outputs": [],
   "source": [
    "# Compile the model\n",
    "model.compile(optimizer='adam',\n",
    "              loss='categorical_crossentropy',\n",
    "              metrics=['accuracy'])"
   ]
  },
  {
   "cell_type": "code",
   "execution_count": null,
   "metadata": {
    "id": "M5IZhJnsVWeE"
   },
   "outputs": [],
   "source": []
  },
  {
   "cell_type": "code",
   "execution_count": 19,
   "metadata": {
    "colab": {
     "base_uri": "https://localhost:8080/"
    },
    "id": "BgoHfAkJXJVB",
    "outputId": "ee837f3f-2ebb-406c-a089-be35bed26a22"
   },
   "outputs": [
    {
     "name": "stdout",
     "output_type": "stream",
     "text": [
      "Epoch 1/100\n",
      "6/6 [==============================] - 11s 1s/step - loss: 3.9348 - accuracy: 0.0610 - val_loss: 2.5276 - val_accuracy: 0.0938\n",
      "Epoch 2/100\n",
      "6/6 [==============================] - 6s 1s/step - loss: 2.6083 - accuracy: 0.0488 - val_loss: 2.4991 - val_accuracy: 0.2188\n",
      "Epoch 3/100\n",
      "6/6 [==============================] - 6s 995ms/step - loss: 2.5535 - accuracy: 0.0854 - val_loss: 2.4398 - val_accuracy: 0.2500\n",
      "Epoch 4/100\n",
      "6/6 [==============================] - 6s 1s/step - loss: 2.4246 - accuracy: 0.1829 - val_loss: 2.2503 - val_accuracy: 0.1562\n",
      "Epoch 5/100\n",
      "6/6 [==============================] - 6s 1s/step - loss: 2.2126 - accuracy: 0.1829 - val_loss: 1.8632 - val_accuracy: 0.3438\n",
      "Epoch 6/100\n",
      "6/6 [==============================] - 7s 1s/step - loss: 1.9410 - accuracy: 0.3171 - val_loss: 1.8253 - val_accuracy: 0.3438\n",
      "Epoch 7/100\n",
      "6/6 [==============================] - 7s 1s/step - loss: 1.6465 - accuracy: 0.4688 - val_loss: 1.6920 - val_accuracy: 0.4062\n",
      "Epoch 8/100\n",
      "6/6 [==============================] - 6s 1s/step - loss: 1.5401 - accuracy: 0.4634 - val_loss: 1.3531 - val_accuracy: 0.5312\n",
      "Epoch 9/100\n",
      "6/6 [==============================] - 6s 1s/step - loss: 1.5106 - accuracy: 0.5732 - val_loss: 1.6331 - val_accuracy: 0.4688\n",
      "Epoch 10/100\n",
      "6/6 [==============================] - 6s 1s/step - loss: 1.1917 - accuracy: 0.7073 - val_loss: 1.3882 - val_accuracy: 0.5625\n",
      "Epoch 11/100\n",
      "6/6 [==============================] - 6s 1s/step - loss: 1.0714 - accuracy: 0.6341 - val_loss: 1.2940 - val_accuracy: 0.5000\n",
      "Epoch 12/100\n",
      "6/6 [==============================] - 6s 955ms/step - loss: 0.7595 - accuracy: 0.7805 - val_loss: 1.6250 - val_accuracy: 0.5312\n",
      "Epoch 13/100\n",
      "6/6 [==============================] - 7s 1s/step - loss: 0.8242 - accuracy: 0.7812 - val_loss: 1.3882 - val_accuracy: 0.6562\n",
      "Epoch 14/100\n",
      "6/6 [==============================] - 6s 1s/step - loss: 0.5876 - accuracy: 0.8171 - val_loss: 0.9490 - val_accuracy: 0.6875\n",
      "Epoch 15/100\n",
      "6/6 [==============================] - 6s 951ms/step - loss: 0.5018 - accuracy: 0.9024 - val_loss: 1.1387 - val_accuracy: 0.5625\n",
      "Epoch 16/100\n",
      "6/6 [==============================] - 7s 1s/step - loss: 0.3786 - accuracy: 0.8958 - val_loss: 0.5331 - val_accuracy: 0.8125\n",
      "Epoch 17/100\n",
      "6/6 [==============================] - 6s 964ms/step - loss: 0.3656 - accuracy: 0.9268 - val_loss: 1.3540 - val_accuracy: 0.6875\n",
      "Epoch 18/100\n",
      "6/6 [==============================] - 6s 1s/step - loss: 0.3021 - accuracy: 0.8902 - val_loss: 0.7655 - val_accuracy: 0.7812\n",
      "Epoch 19/100\n",
      "6/6 [==============================] - 6s 1s/step - loss: 0.3124 - accuracy: 0.9390 - val_loss: 1.1832 - val_accuracy: 0.6875\n",
      "Epoch 20/100\n",
      "6/6 [==============================] - 6s 980ms/step - loss: 0.3489 - accuracy: 0.9268 - val_loss: 0.9760 - val_accuracy: 0.7188\n",
      "Epoch 21/100\n",
      "6/6 [==============================] - 6s 931ms/step - loss: 0.1976 - accuracy: 0.9390 - val_loss: 0.8038 - val_accuracy: 0.6875\n",
      "Epoch 22/100\n",
      "6/6 [==============================] - 6s 954ms/step - loss: 0.2905 - accuracy: 0.9268 - val_loss: 1.3504 - val_accuracy: 0.8125\n",
      "Epoch 23/100\n",
      "6/6 [==============================] - 6s 979ms/step - loss: 0.2467 - accuracy: 0.9268 - val_loss: 1.0253 - val_accuracy: 0.6562\n",
      "Epoch 24/100\n",
      "6/6 [==============================] - 6s 939ms/step - loss: 0.0800 - accuracy: 0.9878 - val_loss: 1.5445 - val_accuracy: 0.7188\n",
      "Epoch 25/100\n",
      "6/6 [==============================] - 6s 1s/step - loss: 0.2188 - accuracy: 0.9512 - val_loss: 0.9758 - val_accuracy: 0.8125\n",
      "Epoch 26/100\n",
      "6/6 [==============================] - 6s 979ms/step - loss: 0.1421 - accuracy: 0.9512 - val_loss: 0.4884 - val_accuracy: 0.8438\n",
      "Epoch 27/100\n",
      "6/6 [==============================] - 6s 1s/step - loss: 0.3178 - accuracy: 0.9146 - val_loss: 1.0503 - val_accuracy: 0.7188\n",
      "Epoch 28/100\n",
      "6/6 [==============================] - 6s 1s/step - loss: 0.3543 - accuracy: 0.9146 - val_loss: 1.0719 - val_accuracy: 0.8125\n",
      "Epoch 29/100\n",
      "6/6 [==============================] - 6s 962ms/step - loss: 0.2001 - accuracy: 0.9268 - val_loss: 1.2383 - val_accuracy: 0.8125\n",
      "Epoch 30/100\n",
      "6/6 [==============================] - 6s 967ms/step - loss: 0.4508 - accuracy: 0.8537 - val_loss: 0.7184 - val_accuracy: 0.8125\n",
      "Epoch 31/100\n",
      "6/6 [==============================] - 6s 960ms/step - loss: 0.3416 - accuracy: 0.8902 - val_loss: 0.7467 - val_accuracy: 0.8125\n",
      "Epoch 32/100\n",
      "6/6 [==============================] - 6s 961ms/step - loss: 0.5964 - accuracy: 0.8659 - val_loss: 1.6542 - val_accuracy: 0.6875\n",
      "Epoch 33/100\n",
      "6/6 [==============================] - 6s 1s/step - loss: 0.1605 - accuracy: 0.9390 - val_loss: 1.4513 - val_accuracy: 0.7188\n",
      "Epoch 34/100\n",
      "6/6 [==============================] - 6s 996ms/step - loss: 0.2037 - accuracy: 0.9146 - val_loss: 1.7265 - val_accuracy: 0.6250\n",
      "Epoch 35/100\n",
      "6/6 [==============================] - 6s 992ms/step - loss: 0.2552 - accuracy: 0.9268 - val_loss: 0.7094 - val_accuracy: 0.7812\n",
      "Epoch 36/100\n",
      "6/6 [==============================] - 6s 963ms/step - loss: 0.2263 - accuracy: 0.9268 - val_loss: 0.8897 - val_accuracy: 0.7812\n",
      "Epoch 37/100\n",
      "6/6 [==============================] - 6s 1s/step - loss: 0.1796 - accuracy: 0.9390 - val_loss: 0.7250 - val_accuracy: 0.8125\n",
      "Epoch 38/100\n",
      "6/6 [==============================] - 7s 1s/step - loss: 0.0458 - accuracy: 0.9896 - val_loss: 1.0703 - val_accuracy: 0.7500\n",
      "Epoch 39/100\n",
      "6/6 [==============================] - 6s 1s/step - loss: 0.0520 - accuracy: 0.9756 - val_loss: 1.1316 - val_accuracy: 0.7188\n",
      "Epoch 40/100\n",
      "6/6 [==============================] - 7s 1s/step - loss: 0.0370 - accuracy: 0.9896 - val_loss: 1.2461 - val_accuracy: 0.7812\n",
      "Epoch 41/100\n",
      "6/6 [==============================] - 6s 1s/step - loss: 0.1057 - accuracy: 0.9512 - val_loss: 1.6515 - val_accuracy: 0.8125\n",
      "Epoch 42/100\n",
      "6/6 [==============================] - 6s 964ms/step - loss: 0.0334 - accuracy: 1.0000 - val_loss: 1.0291 - val_accuracy: 0.7500\n",
      "Epoch 43/100\n",
      "6/6 [==============================] - 6s 970ms/step - loss: 0.0370 - accuracy: 0.9756 - val_loss: 0.9777 - val_accuracy: 0.8125\n",
      "Epoch 44/100\n",
      "6/6 [==============================] - 6s 983ms/step - loss: 0.0124 - accuracy: 1.0000 - val_loss: 0.8498 - val_accuracy: 0.8125\n",
      "Epoch 45/100\n",
      "6/6 [==============================] - 6s 923ms/step - loss: 0.0555 - accuracy: 0.9756 - val_loss: 1.1442 - val_accuracy: 0.7500\n",
      "Epoch 46/100\n",
      "6/6 [==============================] - 6s 957ms/step - loss: 0.0161 - accuracy: 1.0000 - val_loss: 0.9575 - val_accuracy: 0.8438\n",
      "Epoch 47/100\n",
      "6/6 [==============================] - 6s 1s/step - loss: 0.0365 - accuracy: 0.9756 - val_loss: 0.7697 - val_accuracy: 0.8438\n",
      "Epoch 48/100\n",
      "6/6 [==============================] - 7s 1s/step - loss: 0.0078 - accuracy: 1.0000 - val_loss: 0.8903 - val_accuracy: 0.8125\n",
      "Epoch 49/100\n",
      "6/6 [==============================] - 6s 987ms/step - loss: 0.0237 - accuracy: 0.9878 - val_loss: 0.9703 - val_accuracy: 0.8438\n",
      "Epoch 50/100\n",
      "6/6 [==============================] - 6s 1s/step - loss: 0.0087 - accuracy: 1.0000 - val_loss: 0.7454 - val_accuracy: 0.8750\n",
      "Epoch 51/100\n",
      "6/6 [==============================] - 7s 1s/step - loss: 0.0217 - accuracy: 0.9896 - val_loss: 0.6901 - val_accuracy: 0.8750\n",
      "Epoch 52/100\n",
      "6/6 [==============================] - 6s 1s/step - loss: 0.0160 - accuracy: 1.0000 - val_loss: 1.1781 - val_accuracy: 0.7812\n",
      "Epoch 53/100\n",
      "6/6 [==============================] - 6s 936ms/step - loss: 0.0176 - accuracy: 1.0000 - val_loss: 1.3890 - val_accuracy: 0.7812\n",
      "Epoch 54/100\n",
      "6/6 [==============================] - 7s 1s/step - loss: 0.0204 - accuracy: 0.9896 - val_loss: 1.5409 - val_accuracy: 0.8125\n",
      "Epoch 55/100\n",
      "6/6 [==============================] - 6s 957ms/step - loss: 0.0158 - accuracy: 1.0000 - val_loss: 1.6649 - val_accuracy: 0.7812\n",
      "Epoch 56/100\n",
      "6/6 [==============================] - 6s 968ms/step - loss: 0.0047 - accuracy: 1.0000 - val_loss: 1.6146 - val_accuracy: 0.8125\n",
      "Epoch 57/100\n",
      "6/6 [==============================] - 6s 1s/step - loss: 0.0094 - accuracy: 1.0000 - val_loss: 1.5850 - val_accuracy: 0.7188\n",
      "Epoch 58/100\n",
      "6/6 [==============================] - 7s 1s/step - loss: 0.0123 - accuracy: 0.9896 - val_loss: 0.8852 - val_accuracy: 0.8438\n",
      "Epoch 59/100\n"
     ]
    },
    {
     "name": "stdout",
     "output_type": "stream",
     "text": [
      "6/6 [==============================] - 6s 1s/step - loss: 0.0072 - accuracy: 1.0000 - val_loss: 1.5416 - val_accuracy: 0.7500\n",
      "Epoch 60/100\n",
      "6/6 [==============================] - 6s 935ms/step - loss: 0.0224 - accuracy: 0.9878 - val_loss: 1.2783 - val_accuracy: 0.8125\n",
      "Epoch 61/100\n",
      "6/6 [==============================] - 6s 982ms/step - loss: 0.0089 - accuracy: 1.0000 - val_loss: 0.8303 - val_accuracy: 0.8750\n",
      "Epoch 62/100\n",
      "6/6 [==============================] - 6s 1s/step - loss: 0.0045 - accuracy: 1.0000 - val_loss: 1.2837 - val_accuracy: 0.8125\n",
      "Epoch 63/100\n",
      "6/6 [==============================] - 6s 1s/step - loss: 0.0786 - accuracy: 0.9688 - val_loss: 0.9454 - val_accuracy: 0.8125\n",
      "Epoch 64/100\n",
      "6/6 [==============================] - 6s 863ms/step - loss: 0.0706 - accuracy: 0.9878 - val_loss: 3.5710 - val_accuracy: 0.6562\n",
      "Epoch 65/100\n",
      "6/6 [==============================] - 6s 931ms/step - loss: 0.3984 - accuracy: 0.9024 - val_loss: 1.4486 - val_accuracy: 0.6875\n",
      "Epoch 66/100\n",
      "6/6 [==============================] - 6s 964ms/step - loss: 0.1954 - accuracy: 0.9390 - val_loss: 3.1797 - val_accuracy: 0.7188\n",
      "Epoch 67/100\n",
      "6/6 [==============================] - 6s 984ms/step - loss: 1.1397 - accuracy: 0.7927 - val_loss: 1.2951 - val_accuracy: 0.6562\n",
      "Epoch 68/100\n",
      "6/6 [==============================] - 6s 941ms/step - loss: 0.5693 - accuracy: 0.8049 - val_loss: 0.7189 - val_accuracy: 0.7500\n",
      "Epoch 69/100\n",
      "6/6 [==============================] - 6s 969ms/step - loss: 0.2324 - accuracy: 0.9146 - val_loss: 0.7824 - val_accuracy: 0.7500\n",
      "Epoch 70/100\n",
      "6/6 [==============================] - 6s 1s/step - loss: 0.1373 - accuracy: 0.9512 - val_loss: 0.6509 - val_accuracy: 0.7500\n",
      "Epoch 71/100\n",
      "6/6 [==============================] - 7s 1s/step - loss: 0.0439 - accuracy: 0.9896 - val_loss: 0.9565 - val_accuracy: 0.8438\n",
      "Epoch 72/100\n",
      "6/6 [==============================] - 6s 904ms/step - loss: 0.0632 - accuracy: 0.9634 - val_loss: 1.0547 - val_accuracy: 0.8438\n",
      "Epoch 73/100\n",
      "6/6 [==============================] - 6s 980ms/step - loss: 0.0923 - accuracy: 0.9756 - val_loss: 0.7193 - val_accuracy: 0.9062\n",
      "Epoch 74/100\n",
      "6/6 [==============================] - 6s 979ms/step - loss: 0.0476 - accuracy: 0.9756 - val_loss: 0.8561 - val_accuracy: 0.8438\n",
      "Epoch 75/100\n",
      "6/6 [==============================] - 6s 923ms/step - loss: 0.0769 - accuracy: 0.9634 - val_loss: 0.3699 - val_accuracy: 0.9062\n",
      "Epoch 76/100\n",
      "6/6 [==============================] - 6s 1s/step - loss: 0.7420 - accuracy: 0.8171 - val_loss: 1.5519 - val_accuracy: 0.6875\n",
      "Epoch 77/100\n",
      "6/6 [==============================] - 6s 965ms/step - loss: 0.1291 - accuracy: 0.9634 - val_loss: 0.9573 - val_accuracy: 0.8125\n",
      "Epoch 78/100\n",
      "6/6 [==============================] - 6s 919ms/step - loss: 0.0759 - accuracy: 0.9634 - val_loss: 0.9245 - val_accuracy: 0.8125\n",
      "Epoch 79/100\n",
      "6/6 [==============================] - 6s 1s/step - loss: 0.2588 - accuracy: 0.9390 - val_loss: 0.8741 - val_accuracy: 0.7812\n",
      "Epoch 80/100\n",
      "6/6 [==============================] - 6s 938ms/step - loss: 0.1893 - accuracy: 0.9268 - val_loss: 0.4741 - val_accuracy: 0.8438\n",
      "Epoch 81/100\n",
      "6/6 [==============================] - 6s 1s/step - loss: 0.8294 - accuracy: 0.8659 - val_loss: 1.4192 - val_accuracy: 0.7500\n",
      "Epoch 82/100\n",
      "6/6 [==============================] - 6s 980ms/step - loss: 0.3477 - accuracy: 0.9146 - val_loss: 1.2137 - val_accuracy: 0.7812\n",
      "Epoch 83/100\n",
      "6/6 [==============================] - 6s 959ms/step - loss: 0.1151 - accuracy: 0.9634 - val_loss: 1.4531 - val_accuracy: 0.7812\n",
      "Epoch 84/100\n",
      "6/6 [==============================] - 6s 981ms/step - loss: 0.1804 - accuracy: 0.9512 - val_loss: 0.7097 - val_accuracy: 0.8750\n",
      "Epoch 85/100\n",
      "6/6 [==============================] - 6s 1s/step - loss: 0.4248 - accuracy: 0.8902 - val_loss: 0.4024 - val_accuracy: 0.8438\n",
      "Epoch 86/100\n",
      "6/6 [==============================] - 6s 971ms/step - loss: 0.1046 - accuracy: 0.9756 - val_loss: 0.8688 - val_accuracy: 0.8438\n",
      "Epoch 87/100\n",
      "6/6 [==============================] - 6s 1s/step - loss: 0.1349 - accuracy: 0.9512 - val_loss: 0.7344 - val_accuracy: 0.8750\n",
      "Epoch 88/100\n",
      "6/6 [==============================] - 6s 927ms/step - loss: 0.2019 - accuracy: 0.9390 - val_loss: 0.8422 - val_accuracy: 0.8438\n",
      "Epoch 89/100\n",
      "6/6 [==============================] - 6s 973ms/step - loss: 0.0869 - accuracy: 0.9634 - val_loss: 1.1832 - val_accuracy: 0.8125\n",
      "Epoch 90/100\n",
      "6/6 [==============================] - 6s 954ms/step - loss: 0.0232 - accuracy: 1.0000 - val_loss: 1.2014 - val_accuracy: 0.6875\n",
      "Epoch 91/100\n",
      "6/6 [==============================] - 6s 874ms/step - loss: 0.1209 - accuracy: 0.9756 - val_loss: 0.9185 - val_accuracy: 0.9062\n",
      "Epoch 92/100\n",
      "6/6 [==============================] - 6s 977ms/step - loss: 0.0309 - accuracy: 0.9878 - val_loss: 0.1627 - val_accuracy: 0.9688\n",
      "Epoch 93/100\n",
      "6/6 [==============================] - 6s 943ms/step - loss: 0.0173 - accuracy: 1.0000 - val_loss: 0.6427 - val_accuracy: 0.9688\n",
      "Epoch 94/100\n",
      "6/6 [==============================] - 6s 1s/step - loss: 0.0249 - accuracy: 0.9896 - val_loss: 0.6428 - val_accuracy: 0.9375\n",
      "Epoch 95/100\n",
      "6/6 [==============================] - 6s 1s/step - loss: 0.0040 - accuracy: 1.0000 - val_loss: 1.3732 - val_accuracy: 0.8750\n",
      "Epoch 96/100\n",
      "6/6 [==============================] - 6s 951ms/step - loss: 0.0184 - accuracy: 0.9878 - val_loss: 0.9286 - val_accuracy: 0.9062\n",
      "Epoch 97/100\n",
      "6/6 [==============================] - 6s 1s/step - loss: 0.0026 - accuracy: 1.0000 - val_loss: 1.0924 - val_accuracy: 0.8750\n",
      "Epoch 98/100\n",
      "6/6 [==============================] - 6s 917ms/step - loss: 0.0118 - accuracy: 1.0000 - val_loss: 1.3575 - val_accuracy: 0.8750\n",
      "Epoch 99/100\n",
      "6/6 [==============================] - 6s 937ms/step - loss: 0.0137 - accuracy: 0.9878 - val_loss: 0.7764 - val_accuracy: 0.9062\n",
      "Epoch 100/100\n",
      "6/6 [==============================] - 7s 1s/step - loss: 0.0024 - accuracy: 1.0000 - val_loss: 1.4736 - val_accuracy: 0.8750\n"
     ]
    },
    {
     "data": {
      "text/plain": [
       "<keras.callbacks.History at 0x15320ed9e20>"
      ]
     },
     "execution_count": 19,
     "metadata": {},
     "output_type": "execute_result"
    }
   ],
   "source": [
    "# Train the model\n",
    "model.fit(\n",
    "    train_generator,\n",
    "    steps_per_epoch=train_generator.samples // batch_size,\n",
    "    validation_data=valid_generator,\n",
    "    validation_steps=valid_generator.samples // batch_size,\n",
    "    epochs=100  # you can adjust the number of epochs\n",
    ")"
   ]
  },
  {
   "cell_type": "code",
   "execution_count": 20,
   "metadata": {
    "id": "B_vytEYiXK67"
   },
   "outputs": [],
   "source": [
    "# Save the model\n",
    "model.save('origami_shape_classifier.h5')"
   ]
  },
  {
   "cell_type": "code",
   "execution_count": 40,
   "metadata": {
    "id": "-cOWD7GlRgVX"
   },
   "outputs": [],
   "source": [
    "import tensorflow as tf\n",
    "import numpy as np\n",
    "\n",
    "# Load the trained model\n",
    "model = tf.keras.models.load_model('origami_shape_classifier.h5')\n"
   ]
  },
  {
   "cell_type": "code",
   "execution_count": 51,
   "metadata": {
    "id": "qE9vlqE7RgYk"
   },
   "outputs": [],
   "source": [
    "\n",
    "# Path to your test image\n",
    "test_image_path = 'C:/Users/LENOVO/Downloads/hqdefault.jpg'\n"
   ]
  },
  {
   "cell_type": "code",
   "execution_count": 52,
   "metadata": {
    "id": "wOhqrnHHRga_"
   },
   "outputs": [],
   "source": [
    "\n",
    "# Load and preprocess the test image\n",
    "img = tf.keras.preprocessing.image.load_img(test_image_path, target_size=(224, 224))\n",
    "img_array = tf.keras.preprocessing.image.img_to_array(img)\n",
    "img_array = np.expand_dims(img_array, axis=0)\n",
    "img_array /= 255.0  # Normalize the image\n"
   ]
  },
  {
   "cell_type": "code",
   "execution_count": 53,
   "metadata": {
    "colab": {
     "base_uri": "https://localhost:8080/"
    },
    "id": "8Ttttam2XMP7",
    "outputId": "451973ec-7375-4306-99b7-39c14a1286c5"
   },
   "outputs": [
    {
     "name": "stdout",
     "output_type": "stream",
     "text": [
      "1/1 [==============================] - 0s 96ms/step\n"
     ]
    }
   ],
   "source": [
    "\n",
    "# Make predictions\n",
    "predictions = model.predict(img_array)\n"
   ]
  },
  {
   "cell_type": "code",
   "execution_count": 54,
   "metadata": {
    "id": "P5Sc-MGdXNe0"
   },
   "outputs": [],
   "source": [
    "\n",
    "# Map predicted class index to the actual class name\n",
    "class_names = train_generator.class_indices\n",
    "predicted_class = np.argmax(predictions)\n",
    "predicted_class_name = [k for k, v in class_names.items() if v == predicted_class][0]\n"
   ]
  },
  {
   "cell_type": "code",
   "execution_count": 55,
   "metadata": {
    "colab": {
     "base_uri": "https://localhost:8080/"
    },
    "id": "EJ0-kvp-YUIa",
    "outputId": "1bb89490-f3fe-45a6-cc66-520de2be7a1b"
   },
   "outputs": [
    {
     "name": "stdout",
     "output_type": "stream",
     "text": [
      "Predicted class index: 6\n",
      "Predicted class name: rabbit\n"
     ]
    }
   ],
   "source": [
    "\n",
    "print(f\"Predicted class index: {predicted_class}\")\n",
    "print(f\"Predicted class name: {predicted_class_name}\")\n"
   ]
  },
  {
   "cell_type": "code",
   "execution_count": null,
   "metadata": {
    "id": "fmLtwWIhXOmq"
   },
   "outputs": [],
   "source": []
  },
  {
   "cell_type": "code",
   "execution_count": null,
   "metadata": {},
   "outputs": [],
   "source": []
  },
  {
   "cell_type": "code",
   "execution_count": null,
   "metadata": {},
   "outputs": [],
   "source": []
  }
 ],
 "metadata": {
  "colab": {
   "provenance": []
  },
  "kernelspec": {
   "display_name": "Python 3 (ipykernel)",
   "language": "python",
   "name": "python3"
  },
  "language_info": {
   "codemirror_mode": {
    "name": "ipython",
    "version": 3
   },
   "file_extension": ".py",
   "mimetype": "text/x-python",
   "name": "python",
   "nbconvert_exporter": "python",
   "pygments_lexer": "ipython3",
   "version": "3.9.13"
  }
 },
 "nbformat": 4,
 "nbformat_minor": 1
}
